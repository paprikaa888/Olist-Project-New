{
 "cells": [
  {
   "cell_type": "code",
   "execution_count": 60,
   "metadata": {},
   "outputs": [],
   "source": [
    "import pandas as pd\n",
    "import numpy as np\n",
    "import seaborn as sb\n",
    "sb.set()\n",
    "import datetime as dt\n",
    "import matplotlib.pyplot as plt"
   ]
  },
  {
   "cell_type": "code",
   "execution_count": 61,
   "metadata": {},
   "outputs": [],
   "source": [
    "customers = pd.read_csv('./archive/olist_customers_dataset.csv', sep=\",\")\n",
    "locations = pd.read_csv('./archive/olist_geolocation_dataset.csv', sep=\",\")\n",
    "order_items = pd.read_csv('./archive/olist_order_items_dataset.csv', sep=\",\")\n",
    "order_payments = pd.read_csv('./archive/olist_order_payments_dataset.csv', sep=\",\")\n",
    "order_reviews = pd.read_csv('./archive/olist_order_reviews_dataset.csv', sep=\",\")\n",
    "orders = pd.read_csv('./archive/olist_orders_dataset.csv', sep=\",\")\n",
    "products = pd.read_csv('./archive/olist_products_dataset.csv', sep=\",\")\n",
    "sellers = pd.read_csv('./archive/olist_sellers_dataset.csv', sep=\",\")\n",
    "product_category_name = pd.read_csv('./archive/product_category_name_translation.csv', sep=\",\")"
   ]
  },
  {
   "cell_type": "markdown",
   "metadata": {},
   "source": [
    "# Ich \"merge\" Schritt für Schritt alle dataframes zu einem großen dataframe zusammen:"
   ]
  },
  {
   "cell_type": "code",
   "execution_count": 62,
   "metadata": {},
   "outputs": [],
   "source": [
    "merged_df1 = pd.merge(order_items, orders, on='order_id', how='left')\n",
    "merged_df2 = pd.merge(merged_df1, customers, on='customer_id', how='left')\n",
    "merged_df3 = pd.merge(merged_df2, order_payments, on='order_id', how='left')\n",
    "merged_df4 = pd.merge(merged_df3, order_reviews, on='order_id', how='left')\n",
    "merged_df5 = pd.merge(merged_df4, products, on='product_id', how='left')\n",
    "merged_df6 = pd.merge(merged_df5, product_category_name, on='product_category_name', how='left')\n",
    "final_df = pd.merge(merged_df6, sellers, on='seller_id', how='left')\n"
   ]
  },
  {
   "cell_type": "code",
   "execution_count": 11,
   "metadata": {},
   "outputs": [],
   "source": [
    "pd.set_option('display.max_columns', None)  # Zeige alle Spalten\n",
    "pd.set_option('display.expand_frame_repr', False)  # Verhindere Zeilenumbruch"
   ]
  },
  {
   "cell_type": "code",
   "execution_count": 12,
   "metadata": {},
   "outputs": [],
   "source": [
    "# der data frame behinhaltet jetzt die Infos aus allen 7 csv dateien"
   ]
  },
  {
   "cell_type": "code",
   "execution_count": null,
   "metadata": {},
   "outputs": [],
   "source": []
  },
  {
   "cell_type": "code",
   "execution_count": 63,
   "metadata": {},
   "outputs": [],
   "source": [
    "# Jetzt folgt der Data Cleaning Prozess. Suche nach fehlenden Werten (missing values) und oder doppelten werten (duplicates)"
   ]
  },
  {
   "cell_type": "code",
   "execution_count": 64,
   "metadata": {},
   "outputs": [
    {
     "data": {
      "text/plain": [
       "order_id                              0\n",
       "order_item_id                         0\n",
       "product_id                            0\n",
       "seller_id                             0\n",
       "shipping_limit_date                   0\n",
       "price                                 0\n",
       "freight_value                         0\n",
       "customer_id                           0\n",
       "order_status                          0\n",
       "order_purchase_timestamp              0\n",
       "order_approved_at                    15\n",
       "order_delivered_carrier_date       1254\n",
       "order_delivered_customer_date      2588\n",
       "order_estimated_delivery_date         0\n",
       "customer_unique_id                    0\n",
       "customer_zip_code_prefix              0\n",
       "customer_city                         0\n",
       "customer_state                        0\n",
       "payment_sequential                    3\n",
       "payment_type                          3\n",
       "payment_installments                  3\n",
       "payment_value                         3\n",
       "review_id                           978\n",
       "review_score                        978\n",
       "review_comment_title             104418\n",
       "review_comment_message            68628\n",
       "review_creation_date                978\n",
       "review_answer_timestamp             978\n",
       "product_category_name              1709\n",
       "product_name_lenght                1709\n",
       "product_description_lenght         1709\n",
       "product_photos_qty                 1709\n",
       "product_weight_g                     20\n",
       "product_length_cm                    20\n",
       "product_height_cm                    20\n",
       "product_width_cm                     20\n",
       "product_category_name_english      1734\n",
       "seller_zip_code_prefix                0\n",
       "seller_city                           0\n",
       "seller_state                          0\n",
       "dtype: int64"
      ]
     },
     "execution_count": 64,
     "metadata": {},
     "output_type": "execute_result"
    }
   ],
   "source": [
    "missing_values = final_df.isnull().sum()\n",
    "missing_values"
   ]
  },
  {
   "cell_type": "code",
   "execution_count": 65,
   "metadata": {},
   "outputs": [],
   "source": [
    "# Da Anzeige zu groß möchte ich mir nur die Spalten zeigen lassen in denen er null werte gib!"
   ]
  },
  {
   "cell_type": "code",
   "execution_count": 66,
   "metadata": {},
   "outputs": [
    {
     "name": "stdout",
     "output_type": "stream",
     "text": [
      "order_approved_at                    15\n",
      "order_delivered_carrier_date       1254\n",
      "order_delivered_customer_date      2588\n",
      "payment_sequential                    3\n",
      "payment_type                          3\n",
      "payment_installments                  3\n",
      "payment_value                         3\n",
      "review_id                           978\n",
      "review_score                        978\n",
      "review_comment_title             104418\n",
      "review_comment_message            68628\n",
      "review_creation_date                978\n",
      "review_answer_timestamp             978\n",
      "product_category_name              1709\n",
      "product_name_lenght                1709\n",
      "product_description_lenght         1709\n",
      "product_photos_qty                 1709\n",
      "product_weight_g                     20\n",
      "product_length_cm                    20\n",
      "product_height_cm                    20\n",
      "product_width_cm                     20\n",
      "product_category_name_english      1734\n",
      "dtype: int64\n"
     ]
    }
   ],
   "source": [
    "missing_values = final_df.isnull().sum()\n",
    "missing_values = missing_values[missing_values > 0]\n",
    "print(missing_values)"
   ]
  },
  {
   "cell_type": "code",
   "execution_count": 67,
   "metadata": {},
   "outputs": [
    {
     "name": "stdout",
     "output_type": "stream",
     "text": [
      "review_comment_title\n",
      "Recomendo                    494\n",
      "recomendo                    403\n",
      "Bom                          331\n",
      "super recomendo              310\n",
      "Excelente                    293\n",
      "                            ... \n",
      "Só recebi metade do pedid      2\n",
      "Réplica                        2\n",
      "Decepção!                      2\n",
      "Mop                            2\n",
      "Vendedor prestativo            2\n",
      "Name: count, Length: 1420, dtype: int64\n"
     ]
    }
   ],
   "source": [
    "duplicates_count = final_df['review_comment_title'].value_counts()\n",
    "duplicates = duplicates_count[duplicates_count > 1]\n",
    "print(duplicates)"
   ]
  },
  {
   "cell_type": "code",
   "execution_count": 68,
   "metadata": {},
   "outputs": [],
   "source": [
    "## Möchte nur die Spalten sehen die duplicates enhalten!"
   ]
  },
  {
   "cell_type": "code",
   "execution_count": 69,
   "metadata": {},
   "outputs": [
    {
     "name": "stdout",
     "output_type": "stream",
     "text": [
      "Spalte: order_id → 19644 Duplikate\n",
      "Spalte: order_item_id → 118289 Duplikate\n",
      "Spalte: product_id → 85359 Duplikate\n",
      "Spalte: seller_id → 115215 Duplikate\n",
      "Spalte: shipping_limit_date → 24992 Duplikate\n",
      "Spalte: price → 112342 Duplikate\n",
      "Spalte: freight_value → 111311 Duplikate\n",
      "Spalte: customer_id → 19644 Duplikate\n",
      "Spalte: order_status → 118303 Duplikate\n",
      "Spalte: order_purchase_timestamp → 20198 Duplikate\n",
      "Spalte: order_approved_at → 28135 Duplikate\n",
      "Spalte: order_delivered_carrier_date → 37292 Duplikate\n",
      "Spalte: order_delivered_customer_date → 22645 Duplikate\n",
      "Spalte: order_estimated_delivery_date → 117860 Duplikate\n",
      "Spalte: customer_unique_id → 22890 Duplikate\n",
      "Spalte: customer_zip_code_prefix → 103334 Duplikate\n",
      "Spalte: customer_city → 114200 Duplikate\n",
      "Spalte: customer_state → 118283 Duplikate\n",
      "Spalte: payment_sequential → 118280 Duplikate\n",
      "Spalte: payment_type → 118305 Duplikate\n",
      "Spalte: payment_installments → 118285 Duplikate\n",
      "Spalte: payment_value → 89371 Duplikate\n",
      "Spalte: review_id → 20600 Duplikate\n",
      "Spalte: review_score → 118304 Duplikate\n",
      "Spalte: review_comment_title → 113812 Duplikate\n",
      "Spalte: review_comment_message → 82617 Duplikate\n",
      "Spalte: review_creation_date → 117676 Duplikate\n",
      "Spalte: review_answer_timestamp → 20762 Duplikate\n",
      "Spalte: product_category_name → 118236 Duplikate\n",
      "Spalte: product_name_lenght → 118243 Duplikate\n",
      "Spalte: product_description_lenght → 115349 Duplikate\n",
      "Spalte: product_photos_qty → 118290 Duplikate\n",
      "Spalte: product_weight_g → 116105 Duplikate\n",
      "Spalte: product_length_cm → 118210 Duplikate\n",
      "Spalte: product_height_cm → 118207 Duplikate\n",
      "Spalte: product_width_cm → 118214 Duplikate\n",
      "Spalte: product_category_name_english → 118238 Duplikate\n",
      "Spalte: seller_zip_code_prefix → 116064 Duplikate\n",
      "Spalte: seller_city → 117699 Duplikate\n",
      "Spalte: seller_state → 118287 Duplikate\n"
     ]
    }
   ],
   "source": [
    "duplicates = final_df.apply(lambda x: x.duplicated().sum())\n",
    "duplicates = duplicates[duplicates > 0]\n",
    "\n",
    "for col, count in duplicates.items():\n",
    "    print(f\"Spalte: {col} → {count} Duplikate\")"
   ]
  },
  {
   "cell_type": "code",
   "execution_count": 70,
   "metadata": {},
   "outputs": [],
   "source": [
    "# Manche Duplikate wie zB Preis etc. können drin bleiben.\n",
    "\n",
    "# Dopplungen  wie Bestell-ID, der Kunden-ID, dem Zeitstempel der Bestellung und dem Datum der Bestellung sollen uter Beibehaltung der ersten gelöscht werden!"
   ]
  },
  {
   "cell_type": "code",
   "execution_count": 71,
   "metadata": {},
   "outputs": [],
   "source": [
    "final_df = final_df.drop_duplicates(\n",
    "    subset=['order_id', 'customer_id', 'order_purchase_timestamp', 'order_delivered_customer_date'],\n",
    "    keep='first'\n",
    ")"
   ]
  },
  {
   "cell_type": "code",
   "execution_count": null,
   "metadata": {},
   "outputs": [],
   "source": []
  },
  {
   "cell_type": "code",
   "execution_count": 72,
   "metadata": {},
   "outputs": [],
   "source": [
    "# Jetzt: Missing values auffüllen:\n"
   ]
  },
  {
   "cell_type": "code",
   "execution_count": null,
   "metadata": {},
   "outputs": [],
   "source": []
  },
  {
   "attachments": {},
   "cell_type": "markdown",
   "metadata": {},
   "source": [
    "\n",
    "\n",
    "Folgender Code wählt die Spalte review_comment_message aus dem DataFrame final_df\n",
    "Verwendet die fillna()-Methode, um alle NaN-Werte durch \"nao_reveja\" zu ersetzen\n",
    " Weist die geänderte Spalte wieder der ursprünglichen Spalte zu"
   ]
  },
  {
   "cell_type": "code",
   "execution_count": 73,
   "metadata": {},
   "outputs": [],
   "source": [
    "final_df['review_comment_message'] = final_df['review_comment_message'].fillna('nao_reveja')"
   ]
  },
  {
   "cell_type": "code",
   "execution_count": null,
   "metadata": {},
   "outputs": [],
   "source": [
    "\n"
   ]
  },
  {
   "cell_type": "markdown",
   "metadata": {},
   "source": [
    "Jetzt: missing values in den anderen Spalten mit dem jeweiligen Median auffüllen:"
   ]
  },
  {
   "cell_type": "code",
   "execution_count": 74,
   "metadata": {},
   "outputs": [
    {
     "name": "stderr",
     "output_type": "stream",
     "text": [
      "/var/folders/gq/qy25ht6n47v_kkd7kj866zgr0000gn/T/ipykernel_94506/2793818910.py:1: FutureWarning: A value is trying to be set on a copy of a DataFrame or Series through chained assignment using an inplace method.\n",
      "The behavior will change in pandas 3.0. This inplace method will never work because the intermediate object on which we are setting values always behaves as a copy.\n",
      "\n",
      "For example, when doing 'df[col].method(value, inplace=True)', try using 'df.method({col: value}, inplace=True)' or df[col] = df[col].method(value) instead, to perform the operation inplace on the original object.\n",
      "\n",
      "\n",
      "  final_df['product_weight_g'].fillna(final_df['product_weight_g'].median(), inplace=True)\n",
      "/var/folders/gq/qy25ht6n47v_kkd7kj866zgr0000gn/T/ipykernel_94506/2793818910.py:2: FutureWarning: A value is trying to be set on a copy of a DataFrame or Series through chained assignment using an inplace method.\n",
      "The behavior will change in pandas 3.0. This inplace method will never work because the intermediate object on which we are setting values always behaves as a copy.\n",
      "\n",
      "For example, when doing 'df[col].method(value, inplace=True)', try using 'df.method({col: value}, inplace=True)' or df[col] = df[col].method(value) instead, to perform the operation inplace on the original object.\n",
      "\n",
      "\n",
      "  final_df['product_length_cm'].fillna(final_df['product_length_cm'].median(), inplace=True)\n",
      "/var/folders/gq/qy25ht6n47v_kkd7kj866zgr0000gn/T/ipykernel_94506/2793818910.py:3: FutureWarning: A value is trying to be set on a copy of a DataFrame or Series through chained assignment using an inplace method.\n",
      "The behavior will change in pandas 3.0. This inplace method will never work because the intermediate object on which we are setting values always behaves as a copy.\n",
      "\n",
      "For example, when doing 'df[col].method(value, inplace=True)', try using 'df.method({col: value}, inplace=True)' or df[col] = df[col].method(value) instead, to perform the operation inplace on the original object.\n",
      "\n",
      "\n",
      "  final_df['product_height_cm'].fillna(final_df['product_height_cm'].median(), inplace=True)\n",
      "/var/folders/gq/qy25ht6n47v_kkd7kj866zgr0000gn/T/ipykernel_94506/2793818910.py:4: FutureWarning: A value is trying to be set on a copy of a DataFrame or Series through chained assignment using an inplace method.\n",
      "The behavior will change in pandas 3.0. This inplace method will never work because the intermediate object on which we are setting values always behaves as a copy.\n",
      "\n",
      "For example, when doing 'df[col].method(value, inplace=True)', try using 'df.method({col: value}, inplace=True)' or df[col] = df[col].method(value) instead, to perform the operation inplace on the original object.\n",
      "\n",
      "\n",
      "  final_df['product_width_cm'].fillna(final_df['product_width_cm'].median(), inplace=True)\n"
     ]
    }
   ],
   "source": [
    "final_df['product_weight_g'].fillna(final_df['product_weight_g'].median(), inplace=True)\n",
    "final_df['product_length_cm'].fillna(final_df['product_length_cm'].median(), inplace=True)\n",
    "final_df['product_height_cm'].fillna(final_df['product_height_cm'].median(), inplace=True)\n",
    "final_df['product_width_cm'].fillna(final_df['product_width_cm'].median(), inplace=True)\n"
   ]
  },
  {
   "cell_type": "code",
   "execution_count": null,
   "metadata": {},
   "outputs": [],
   "source": []
  },
  {
   "cell_type": "code",
   "execution_count": null,
   "metadata": {},
   "outputs": [],
   "source": []
  },
  {
   "attachments": {},
   "cell_type": "markdown",
   "metadata": {},
   "source": [
    "# Es gibt aber noch mehr missing values!!!!!!!!!!!!\n"
   ]
  },
  {
   "cell_type": "code",
   "execution_count": 75,
   "metadata": {},
   "outputs": [],
   "source": [
    "#droppen von spalten die wir nicht brauchen!"
   ]
  },
  {
   "cell_type": "code",
   "execution_count": 76,
   "metadata": {},
   "outputs": [],
   "source": [
    "final_df = final_df.drop(columns=['shipping_limit_date','product_category_name', \n",
    "                                          'payment_installments','review_creation_date', 'review_answer_timestamp',])"
   ]
  },
  {
   "cell_type": "code",
   "execution_count": 77,
   "metadata": {},
   "outputs": [],
   "source": [
    "# sum all missing value in dataset and keep only columns with missing value > 0:"
   ]
  },
  {
   "cell_type": "code",
   "execution_count": 78,
   "metadata": {},
   "outputs": [],
   "source": [
    "nan_col = final_df.isnull().sum()[final_df.isnull().sum() > 0]"
   ]
  },
  {
   "cell_type": "code",
   "execution_count": 79,
   "metadata": {},
   "outputs": [],
   "source": [
    "# Erstelle einen datafram der aus der summe aller missing values pro spalte bestent und dem prozentualen Anteil!"
   ]
  },
  {
   "cell_type": "code",
   "execution_count": 80,
   "metadata": {},
   "outputs": [],
   "source": [
    "nan_col_olist = pd.DataFrame({'NaN_count': nan_col, 'NaN_percentage': nan_col / \n",
    "                              len(final_df) * 100}).sort_values(by = 'NaN_percentage', ascending = False)"
   ]
  },
  {
   "cell_type": "code",
   "execution_count": 81,
   "metadata": {},
   "outputs": [
    {
     "data": {
      "text/html": [
       "<div>\n",
       "<style scoped>\n",
       "    .dataframe tbody tr th:only-of-type {\n",
       "        vertical-align: middle;\n",
       "    }\n",
       "\n",
       "    .dataframe tbody tr th {\n",
       "        vertical-align: top;\n",
       "    }\n",
       "\n",
       "    .dataframe thead th {\n",
       "        text-align: right;\n",
       "    }\n",
       "</style>\n",
       "<table border=\"1\" class=\"dataframe\">\n",
       "  <thead>\n",
       "    <tr style=\"text-align: right;\">\n",
       "      <th></th>\n",
       "      <th>NaN_count</th>\n",
       "      <th>NaN_percentage</th>\n",
       "    </tr>\n",
       "  </thead>\n",
       "  <tbody>\n",
       "    <tr>\n",
       "      <th>review_comment_title</th>\n",
       "      <td>87204</td>\n",
       "      <td>88.383030</td>\n",
       "    </tr>\n",
       "    <tr>\n",
       "      <th>order_delivered_customer_date</th>\n",
       "      <td>2190</td>\n",
       "      <td>2.219610</td>\n",
       "    </tr>\n",
       "    <tr>\n",
       "      <th>product_category_name_english</th>\n",
       "      <td>1437</td>\n",
       "      <td>1.456429</td>\n",
       "    </tr>\n",
       "    <tr>\n",
       "      <th>product_name_lenght</th>\n",
       "      <td>1416</td>\n",
       "      <td>1.435145</td>\n",
       "    </tr>\n",
       "    <tr>\n",
       "      <th>product_description_lenght</th>\n",
       "      <td>1416</td>\n",
       "      <td>1.435145</td>\n",
       "    </tr>\n",
       "    <tr>\n",
       "      <th>product_photos_qty</th>\n",
       "      <td>1416</td>\n",
       "      <td>1.435145</td>\n",
       "    </tr>\n",
       "    <tr>\n",
       "      <th>order_delivered_carrier_date</th>\n",
       "      <td>1009</td>\n",
       "      <td>1.022642</td>\n",
       "    </tr>\n",
       "    <tr>\n",
       "      <th>review_id</th>\n",
       "      <td>749</td>\n",
       "      <td>0.759127</td>\n",
       "    </tr>\n",
       "    <tr>\n",
       "      <th>review_score</th>\n",
       "      <td>749</td>\n",
       "      <td>0.759127</td>\n",
       "    </tr>\n",
       "    <tr>\n",
       "      <th>order_approved_at</th>\n",
       "      <td>14</td>\n",
       "      <td>0.014189</td>\n",
       "    </tr>\n",
       "    <tr>\n",
       "      <th>payment_sequential</th>\n",
       "      <td>1</td>\n",
       "      <td>0.001014</td>\n",
       "    </tr>\n",
       "    <tr>\n",
       "      <th>payment_type</th>\n",
       "      <td>1</td>\n",
       "      <td>0.001014</td>\n",
       "    </tr>\n",
       "    <tr>\n",
       "      <th>payment_value</th>\n",
       "      <td>1</td>\n",
       "      <td>0.001014</td>\n",
       "    </tr>\n",
       "  </tbody>\n",
       "</table>\n",
       "</div>"
      ],
      "text/plain": [
       "                               NaN_count  NaN_percentage\n",
       "review_comment_title               87204       88.383030\n",
       "order_delivered_customer_date       2190        2.219610\n",
       "product_category_name_english       1437        1.456429\n",
       "product_name_lenght                 1416        1.435145\n",
       "product_description_lenght          1416        1.435145\n",
       "product_photos_qty                  1416        1.435145\n",
       "order_delivered_carrier_date        1009        1.022642\n",
       "review_id                            749        0.759127\n",
       "review_score                         749        0.759127\n",
       "order_approved_at                     14        0.014189\n",
       "payment_sequential                     1        0.001014\n",
       "payment_type                           1        0.001014\n",
       "payment_value                          1        0.001014"
      ]
     },
     "execution_count": 81,
     "metadata": {},
     "output_type": "execute_result"
    }
   ],
   "source": [
    "nan_col_olist"
   ]
  },
  {
   "cell_type": "code",
   "execution_count": 82,
   "metadata": {},
   "outputs": [],
   "source": [
    "# payment_sequential, payment_type, payment_value können als \"Missing Value Completely at Random\" angesehen werden!\n"
   ]
  },
  {
   "cell_type": "code",
   "execution_count": 83,
   "metadata": {},
   "outputs": [],
   "source": [
    "final_df.dropna(subset=['payment_sequential'], inplace = True)\n",
    "final_df.dropna(subset=['payment_type'], inplace = True)\n",
    "final_df.dropna(subset=['payment_value'], inplace = True)"
   ]
  },
  {
   "cell_type": "code",
   "execution_count": 84,
   "metadata": {},
   "outputs": [],
   "source": [
    "# beim review_score wird der Modus als Füllwert benutzt:\n"
   ]
  },
  {
   "cell_type": "code",
   "execution_count": 85,
   "metadata": {},
   "outputs": [],
   "source": [
    "# Find mode in review_score columns:"
   ]
  },
  {
   "cell_type": "code",
   "execution_count": 86,
   "metadata": {},
   "outputs": [],
   "source": [
    "rev_score_mode = final_df['review_score'].mode()[0]"
   ]
  },
  {
   "cell_type": "code",
   "execution_count": 87,
   "metadata": {},
   "outputs": [],
   "source": [
    "# input missing value host_response_time dengan modus"
   ]
  },
  {
   "cell_type": "code",
   "execution_count": 88,
   "metadata": {},
   "outputs": [
    {
     "name": "stderr",
     "output_type": "stream",
     "text": [
      "/var/folders/gq/qy25ht6n47v_kkd7kj866zgr0000gn/T/ipykernel_94506/334429411.py:1: FutureWarning: A value is trying to be set on a copy of a DataFrame or Series through chained assignment using an inplace method.\n",
      "The behavior will change in pandas 3.0. This inplace method will never work because the intermediate object on which we are setting values always behaves as a copy.\n",
      "\n",
      "For example, when doing 'df[col].method(value, inplace=True)', try using 'df.method({col: value}, inplace=True)' or df[col] = df[col].method(value) instead, to perform the operation inplace on the original object.\n",
      "\n",
      "\n",
      "  final_df['review_score'].fillna(rev_score_mode, inplace=True)\n"
     ]
    }
   ],
   "source": [
    "final_df['review_score'].fillna(rev_score_mode, inplace=True)"
   ]
  },
  {
   "cell_type": "code",
   "execution_count": 89,
   "metadata": {},
   "outputs": [],
   "source": [
    "# droppen von review_comment_title, product_name_lenght, review_id weil nicht wichtig für Analyse"
   ]
  },
  {
   "cell_type": "code",
   "execution_count": 90,
   "metadata": {},
   "outputs": [],
   "source": [
    "final_df = final_df.drop(columns=['review_comment_title','product_name_lenght', \n",
    "                                          'review_id'])"
   ]
  },
  {
   "cell_type": "code",
   "execution_count": 91,
   "metadata": {},
   "outputs": [],
   "source": [
    "# Nullwerte in product_category_name_english mit füllwort \"unknown\" ausfüllen:"
   ]
  },
  {
   "cell_type": "code",
   "execution_count": 92,
   "metadata": {},
   "outputs": [],
   "source": [
    "final_df['product_category_name_english'] = final_df['product_category_name_english'].fillna('unknown')"
   ]
  },
  {
   "cell_type": "code",
   "execution_count": 93,
   "metadata": {},
   "outputs": [],
   "source": [
    "# fill out with 0 (zero) product_photos_qty"
   ]
  },
  {
   "cell_type": "code",
   "execution_count": 94,
   "metadata": {},
   "outputs": [],
   "source": [
    "final_df['product_photos_qty'] = final_df['product_photos_qty'].fillna(0)"
   ]
  },
  {
   "cell_type": "code",
   "execution_count": 95,
   "metadata": {},
   "outputs": [],
   "source": [
    "# drop von product_description_lenght"
   ]
  },
  {
   "cell_type": "code",
   "execution_count": 96,
   "metadata": {},
   "outputs": [],
   "source": [
    "final_df.dropna(subset=['product_description_lenght'], inplace = True)"
   ]
  },
  {
   "cell_type": "code",
   "execution_count": 97,
   "metadata": {},
   "outputs": [
    {
     "data": {
      "text/plain": [
       "order_id                            0\n",
       "order_item_id                       0\n",
       "product_id                          0\n",
       "seller_id                           0\n",
       "price                               0\n",
       "freight_value                       0\n",
       "customer_id                         0\n",
       "order_status                        0\n",
       "order_purchase_timestamp            0\n",
       "order_approved_at                  13\n",
       "order_delivered_carrier_date      978\n",
       "order_delivered_customer_date    2133\n",
       "order_estimated_delivery_date       0\n",
       "customer_unique_id                  0\n",
       "customer_zip_code_prefix            0\n",
       "customer_city                       0\n",
       "customer_state                      0\n",
       "payment_sequential                  0\n",
       "payment_type                        0\n",
       "payment_value                       0\n",
       "review_score                        0\n",
       "review_comment_message              0\n",
       "product_description_lenght          0\n",
       "product_photos_qty                  0\n",
       "product_weight_g                    0\n",
       "product_length_cm                   0\n",
       "product_height_cm                   0\n",
       "product_width_cm                    0\n",
       "product_category_name_english       0\n",
       "seller_zip_code_prefix              0\n",
       "seller_city                         0\n",
       "seller_state                        0\n",
       "dtype: int64"
      ]
     },
     "execution_count": 97,
     "metadata": {},
     "output_type": "execute_result"
    }
   ],
   "source": [
    "final_df.isnull().sum()"
   ]
  },
  {
   "cell_type": "code",
   "execution_count": null,
   "metadata": {},
   "outputs": [],
   "source": []
  },
  {
   "cell_type": "code",
   "execution_count": null,
   "metadata": {},
   "outputs": [],
   "source": []
  },
  {
   "cell_type": "code",
   "execution_count": 98,
   "metadata": {},
   "outputs": [],
   "source": [
    "#Datentyp ändern von Spalten mit Datum:\n"
   ]
  },
  {
   "cell_type": "code",
   "execution_count": 99,
   "metadata": {},
   "outputs": [],
   "source": [
    "#Change Data Type\n",
    "final_df['order_purchase_timestamp'] = pd.to_datetime(final_df['order_purchase_timestamp'])\n",
    "final_df['order_approved_at'] = pd.to_datetime(final_df['order_approved_at'])\n",
    "final_df['order_delivered_carrier_date'] = pd.to_datetime(final_df['order_delivered_carrier_date'])\n",
    "final_df['order_delivered_customer_date'] = pd.to_datetime(final_df['order_delivered_customer_date'])\n",
    "final_df['order_estimated_delivery_date'] = pd.to_datetime(final_df['order_estimated_delivery_date'])"
   ]
  },
  {
   "cell_type": "code",
   "execution_count": null,
   "metadata": {},
   "outputs": [],
   "source": []
  }
 ],
 "metadata": {
  "kernelspec": {
   "display_name": "base",
   "language": "python",
   "name": "python3"
  },
  "language_info": {
   "codemirror_mode": {
    "name": "ipython",
    "version": 3
   },
   "file_extension": ".py",
   "mimetype": "text/x-python",
   "name": "python",
   "nbconvert_exporter": "python",
   "pygments_lexer": "ipython3",
   "version": "3.12.8"
  },
  "orig_nbformat": 4,
  "vscode": {
   "interpreter": {
    "hash": "3d597f4c481aa0f25dceb95d2a0067e73c0966dcbd003d741d821a7208527ecf"
   }
  }
 },
 "nbformat": 4,
 "nbformat_minor": 2
}
